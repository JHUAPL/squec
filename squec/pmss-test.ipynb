{
 "cells": [
  {
   "cell_type": "markdown",
   "metadata": {},
   "source": [
    "# Pruned Min-Spanning Set\n",
    "\n",
    "We present an algorithm to select the set of edges that minimizes global weight while also prioritizing the inclusion of a subset of vertices (or, alternatively, this can be interpreted as optionally discounting the inclusion of optional vertices.)\n",
    "\n",
    "The time complexity of this algorithm is $O(|E|^2)$"
   ]
  },
  {
   "cell_type": "code",
   "execution_count": 1,
   "metadata": {},
   "outputs": [],
   "source": [
    "from pmss import pruned_min_spanning_set\n",
    "import networkx as nx"
   ]
  },
  {
   "cell_type": "code",
   "execution_count": 2,
   "metadata": {},
   "outputs": [],
   "source": [
    "host = nx.Graph()\n",
    "\n",
    "host.add_edge(1, 4, weight=2)\n",
    "host.add_edge(1, 2, weight=100)\n",
    "host.add_edge(2, 3, weight=100)\n",
    "host.add_edge(3, 4, weight=100)"
   ]
  },
  {
   "cell_type": "code",
   "execution_count": 3,
   "metadata": {},
   "outputs": [
    {
     "data": {
      "text/plain": [
       "((1, 4), (2, 3))"
      ]
     },
     "execution_count": 3,
     "metadata": {},
     "output_type": "execute_result"
    }
   ],
   "source": [
    "pruned_min_spanning_set(host, [1, 2, 3, 4])"
   ]
  },
  {
   "cell_type": "code",
   "execution_count": 9,
   "metadata": {},
   "outputs": [
    {
     "data": {
      "text/plain": [
       "((1, 2), (1, 3))"
      ]
     },
     "execution_count": 9,
     "metadata": {},
     "output_type": "execute_result"
    }
   ],
   "source": [
    "host = nx.Graph()\n",
    "\n",
    "host.add_edge(1, 2, weight=1000)\n",
    "host.add_edge(1, 3, weight=1)\n",
    "\n",
    "pruned_min_spanning_set(host, [3, 2])"
   ]
  },
  {
   "cell_type": "code",
   "execution_count": null,
   "metadata": {},
   "outputs": [],
   "source": []
  }
 ],
 "metadata": {
  "language_info": {
   "name": "python"
  }
 },
 "nbformat": 4,
 "nbformat_minor": 2
}
